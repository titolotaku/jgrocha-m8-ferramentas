{
 "cells": [
  {
   "cell_type": "markdown",
   "metadata": {},
   "source": [
    "### Sequências\n",
    "\n",
    "https://www.ncbi.nlm.nih.gov/genbank/\n",
    "\n",
    "Exemplo e a explicação da estrutura\n",
    "\n",
    "https://www.ncbi.nlm.nih.gov/Sitemap/samplerecord.html\n",
    "\n",
    "https://www.insdc.org/submitting-standards/feature-table/\n",
    "\n",
    "http://biopython.org/DIST/docs/tutorial/Tutorial.html\n",
    "\n",
    "http://www.genebio.ufba.br/genbank/\n",
    "\n",
    "https://www.ncbi.nlm.nih.gov/nuccore/L42022\n",
    "https://www.ncbi.nlm.nih.gov/nuccore/L42023\n",
    "https://www.ncbi.nlm.nih.gov/nuccore/LC740868.1\n",
    "\n",
    "https://www.ncbi.nlm.nih.gov/sviewer/viewer.cgi?tool=portal&save=file&log$=seqview&db=nuccore&report=genbank&id=804715&conwithfeat=on&hide-cdd=on&ncbi_phid=null\n"
   ]
  },
  {
   "cell_type": "code",
   "execution_count": null,
   "metadata": {},
   "outputs": [],
   "source": [
    "import re\n",
    "\n",
    "sequencia = \"\"\n",
    "references = \"\" # passar para array\n",
    "version = \"\"\n",
    "# para ler atrobitos multilinha\n",
    "# [ a ler sequencia, a ler referências, ...]\n",
    "estado = [ False, False ]\n",
    "\n",
    "# TITLE     Whole-genome random sequencing and assembly of Haemophilus\n",
    "#             influenzae Rd\n",
    "\n",
    "# fonte = open(\"../genbank/L42022.1.gb\",'r')\n",
    "fonte = open(\"../genbank/L42023.1.gb\",'r')\n",
    "for linha in fonte:\n",
    "    # print(linha)\n",
    "    if estado[0]:\n",
    "        # a ler sequencia\n",
    "        # print(linha)\n",
    "        # print(linha.strip())\n",
    "        if re.match(\"//\", linha):\n",
    "            print(\"Off\")\n",
    "            estado[0] = False\n",
    "            continue \n",
    "        else:\n",
    "            m = re.match(\"\\s+\\d+([actg ]+)\", linha)\n",
    "            sequencia += m.group(1).replace(\" \", \"\")    \n",
    "    if estado[1]:\n",
    "        if re.search(\"FEATURES\", linha):\n",
    "            estado[1] = False\n",
    "        else:\n",
    "            references += linha\n",
    "    if not any(estado):\n",
    "        if re.search(\"VERSION\\s+[\\w.]+\", linha):\n",
    "            v = re.match(\"VERSION\\s+([\\w.]+)\", linha)\n",
    "            version = v.group(1)# print( m.group(1).replace(\" \", \"\") )\n",
    "        if re.match(\"ORIGIN\", linha):\n",
    "            print(\"ORIGIN On\")\n",
    "            estado[0] = True\n",
    "            continue\n",
    "        if re.match(\"REFERENCE\", linha):\n",
    "            print(\"Title On\")\n",
    "            estado[1] = True\n",
    "            # v = re.match(\"REFERENCE\\s+(.+)\", linha)\n",
    "            references = linha # v.group(1)            \n",
    "fonte.close()\n",
    "print( version, references, sequencia )"
   ]
  },
  {
   "cell_type": "code",
   "execution_count": 50,
   "metadata": {},
   "outputs": [
    {
     "name": "stdout",
     "output_type": "stream",
     "text": [
      "AGTACACTGGT\n",
      "TCATGTGACCA\n",
      "ACCAGTGTACT\n"
     ]
    }
   ],
   "source": [
    "# pip3 install Bio\n",
    "from Bio.Seq import Seq\n",
    "\n",
    "my_seq = Seq(\"AGTACACTGGT\")\n",
    "print( my_seq )\n",
    "print( my_seq.complement() )\n",
    "print( my_seq.reverse_complement() )"
   ]
  },
  {
   "cell_type": "code",
   "execution_count": 1,
   "metadata": {},
   "outputs": [
    {
     "name": "stdout",
     "output_type": "stream",
     "text": [
      "L42022.1\n",
      "Seq('CATCCAGTACATGCAGGGCCTATTGCACCAGGCCAAATGAGAGAACCAAGGGGA...CCC')\n",
      "231\n"
     ]
    }
   ],
   "source": [
    "from Bio import SeqIO\n",
    "for seq_record in SeqIO.parse(\"../genbank/L42022.1.gb\", \"genbank\"):\n",
    "    print(seq_record.id)\n",
    "    print(repr(seq_record.seq))\n",
    "    print(len(seq_record))\n"
   ]
  },
  {
   "cell_type": "code",
   "execution_count": 22,
   "metadata": {},
   "outputs": [],
   "source": [
    "re.match(\"\\s\\d.+\", \"        1 catccagtac atgcagggcc tattgcacca ggccaaatga gagaaccaag gggaagtgac\")"
   ]
  }
 ],
 "metadata": {
  "authors": [
   {
    "name": "Jorge Gustavo Rocha"
   }
  ],
  "kernelspec": {
   "display_name": "Python 3 (ipykernel)",
   "language": "python",
   "name": "python3"
  },
  "language_info": {
   "codemirror_mode": {
    "name": "ipython",
    "version": 3
   },
   "file_extension": ".py",
   "mimetype": "text/x-python",
   "name": "python",
   "nbconvert_exporter": "python",
   "pygments_lexer": "ipython3",
   "version": "3.9.13"
  },
  "vscode": {
   "interpreter": {
    "hash": "916dbcbb3f70747c44a77c7bcd40155683ae19c65e1c03b4aa3499c5328201f1"
   }
  }
 },
 "nbformat": 4,
 "nbformat_minor": 2
}
