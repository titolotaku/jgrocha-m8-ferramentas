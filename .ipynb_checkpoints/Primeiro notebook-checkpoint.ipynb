{
 "cells": [
  {
   "cell_type": "markdown",
   "metadata": {},
   "source": [
    "# Primeiro notebook 🐍\n",
    "Jorge Gustavo Rocha\\\n",
    "Departamento de Informática, Universidade do Minho\\\n",
    "30 de março de 2020\n",
    "\n",
    "## Instalação do Python\n",
    "Para a instalação do Python e do Jupyter, existem duas alternativas.\n",
    "\n",
    "A primeira alternativa é minimalista e consiste em instalar apenas os pacotes que interessam. No Windows, descarregue e instale o [Python](https://www.python.org/downloads/). Depois, instale o Jupyter com o comando `pip` fazendo: `pip install notebook`. No Linux já deve ter uma instalação do Python pronta a funcionar. Acrescente o Jupyter como o comando: `pip install notebook` (ou eventualmente `pip3 install notebook`).\n",
    "\n",
    "Em alternativa, use o [Anaconda](https://www.anaconda.com/products/individual) para instalar o Python, o Jupyter e outros módulos. O Anaconda é um ecossitema Python com ferramentas próprias para gerir os módulos.\n",
    "\n",
    "## Documentação sobre o Python\n",
    "Existe imensa documentação sobre o Python. A [documentação oficial](https://docs.python.org/3/) é mais técnica, com a preocupação de ser rigorosa. Não é um bom ponto de partida, mas é seguramente o melhor sítio para alguma dúvida que fique. Complementarmente à documentação oficial, existem muitos tutoriais e cursos de Python, com objetivos mais pedagógicos e fáceis de seguir.\n",
    "\n",
    "## Documentação sobre o Jupyter\n",
    "Enquanto não estiver familiarizado com o Jupyter, o melhor ponto de partida para obter mais informação é o menu Help do próprio Jupyter. A partir daí obtém muita informação.\n",
    " \n",
    "Pode também consultar a [documentação oficial](https://jupyter-notebook.readthedocs.io/en/stable/notebook.html#introduction).\n",
    "\n",
    "Se estiver mesmo a começar, procure e leia um pequeno tutorial, como este [Jupyter Notebook: An Introduction](https://realpython.com/jupyter-notebook-introduction/), entre os muitos que existem na net.\n",
    "\n",
    "Para acelerar a edição no Jupyter, consulte a [lista de atalhos](https://towardsdatascience.com/jypyter-notebook-shortcuts-bf0101a98330) que existem para criar células, mudar o tipo de célula, executar, etc. \n",
    "\n",
    "Por exemplo, fazendo <kbd>Alt</kbd> + <kbd>Enter</kbd>, executa a célula atual e cria uma nova por baixo.\n",
    "\n",
    "Além dos atalhos, há mais uns [truques](https://www.dataquest.io/blog/jupyter-notebook-tips-tricks-shortcuts/) que dão jeito.\n",
    "\n",
    "Para escrever nas células de texto, use o [guia Markdown](https://help.github.com/en/github/writing-on-github/basic-writing-and-formatting-syntax) que é indicado no Help do Jupyter. Em alternativa, uso o [guia de Markdown](https://medium.com/analytics-vidhya/the-ultimate-markdown-guide-for-jupyter-notebook-d5e5abf728fd)."
   ]
  },
  {
   "cell_type": "markdown",
   "metadata": {},
   "source": [
    "### Arrancar o Jupyter\n",
    "\n",
    "Em Windows, a partir do Anaconda Navigator, pode lançar o Jupyter.\n",
    "\n",
    "![anaconda-navigator.png](anaconda-navigator.png)\n",
    "\n",
    "Em Linux, depois de devidamente instalado, arranca-se o Jupyter com:\n",
    "```bash\n",
    "jupyter notebook\n",
    "```\n",
    "\n",
    "O servidor fica a correr, dando a indicação do URL que deve ser usado para se ligar ao servidor. O endereço predefinido é algo como:http://localhost:8888/?token=57b895db2c2294fd9a98d66253849a47106240a3831ab785\n",
    "\n",
    "Em princípio, assim que se lança do servidor, o navegador abre automaticamente no endereço correto."
   ]
  },
  {
   "cell_type": "markdown",
   "metadata": {},
   "source": [
    "Os notebooks são documentos formados por uma sucessão de células. Cada célula pode conter texto ou código Python.\n",
    "\n",
    "As células de texto podem conter texto corrido ou, para uma apresentaçao mais cuidada, formatações de acordo com o formato Markdown.\n",
    "\n",
    "As células com código podem ser executadas pelo Python e o resultado é incluído no próprio notebook."
   ]
  },
  {
   "cell_type": "code",
   "execution_count": 5,
   "metadata": {},
   "outputs": [
    {
     "name": "stdout",
     "output_type": "stream",
     "text": [
      "Bom dia!\n"
     ]
    }
   ],
   "source": [
    "print(\"Bom dia!\")"
   ]
  },
  {
   "cell_type": "markdown",
   "metadata": {},
   "source": [
    "Entre as células com código, pode-se acrescentar toda a documentação necessária."
   ]
  },
  {
   "cell_type": "code",
   "execution_count": 7,
   "metadata": {},
   "outputs": [
    {
     "name": "stdout",
     "output_type": "stream",
     "text": [
      " 1 x 9 =  9\n",
      " 2 x 9 = 18\n",
      " 3 x 9 = 27\n",
      " 4 x 9 = 36\n",
      " 5 x 9 = 45\n",
      " 6 x 9 = 54\n",
      " 7 x 9 = 63\n",
      " 8 x 9 = 72\n",
      " 9 x 9 = 81\n",
      "10 x 9 = 90\n"
     ]
    }
   ],
   "source": [
    "for i in range(1,11):\n",
    "    print('{:>2} x {} = {:>2}'.format( i, 9, 9*i) )"
   ]
  },
  {
   "cell_type": "markdown",
   "metadata": {},
   "source": [
    "Tipos em Python"
   ]
  },
  {
   "cell_type": "code",
   "execution_count": 4,
   "metadata": {},
   "outputs": [
    {
     "name": "stdout",
     "output_type": "stream",
     "text": [
      "Você tem 47 anos.\n"
     ]
    }
   ],
   "source": [
    "from datetime import date\n",
    "ano_atual = date.today().year\n",
    "\n",
    "ano_nascimento = input()\n",
    "print(\"Você tem {} anos.\".format(ano_atual - int(ano_nascimento)) )"
   ]
  },
  {
   "cell_type": "markdown",
   "metadata": {},
   "source": [
    "Estruturas de dados"
   ]
  },
  {
   "cell_type": "code",
   "execution_count": 2,
   "metadata": {},
   "outputs": [
    {
     "data": {
      "text/plain": [
       "'Braga'"
      ]
     },
     "execution_count": 2,
     "metadata": {},
     "output_type": "execute_result"
    }
   ],
   "source": [
    "populacao = { \"Amares\": 19853, \"Barcelos\": 124555, \"Braga\": 176154, \"Cabeceiras de Basto\": 17635, \"Celorico de Basto\": 19767, \"Esposende\": 35552, \"Fafe\": 53600, \"Guimarães\": 176154, \"Póvoa de Lanhoso\": 24230, \"Terras de Bouro\": 7506, \"Vieira do Minho\": 14077, \"Vila Nova de Famalicão\": 134969, \"Vila Verde\": 49171, \"Vizela\": 24477 }\n",
    "max(populacao, key=populacao.get)"
   ]
  },
  {
   "cell_type": "markdown",
   "metadata": {},
   "source": [
    "Estruturas de controlo"
   ]
  },
  {
   "cell_type": "code",
   "execution_count": 3,
   "metadata": {},
   "outputs": [
    {
     "name": "stdout",
     "output_type": "stream",
     "text": [
      "O concelho Amares precisava de mais 30147 para ter 50000 habitantes\n",
      "Barcelos\n",
      "Braga\n",
      "O concelho Cabeceiras de Basto precisava de mais 32365 para ter 50000 habitantes\n",
      "O concelho Celorico de Basto precisava de mais 30233 para ter 50000 habitantes\n",
      "O concelho Esposende precisava de mais 14448 para ter 50000 habitantes\n",
      "Fafe\n",
      "Guimarães\n",
      "O concelho Póvoa de Lanhoso precisava de mais 25770 para ter 50000 habitantes\n",
      "O concelho Terras de Bouro precisava de mais 42494 para ter 50000 habitantes\n",
      "O concelho Vieira do Minho precisava de mais 35923 para ter 50000 habitantes\n",
      "Vila Nova de Famalicão\n",
      "O concelho Vila Verde precisava de mais 829 para ter 50000 habitantes\n",
      "O concelho Vizela precisava de mais 25523 para ter 50000 habitantes\n"
     ]
    },
    {
     "data": {
      "text/plain": [
       "{'Amares': 19853,\n",
       " 'Barcelos': 124555,\n",
       " 'Braga': 176154,\n",
       " 'Cabeceiras de Basto': 17635,\n",
       " 'Celorico de Basto': 19767,\n",
       " 'Esposende': 35552,\n",
       " 'Fafe': 53600,\n",
       " 'Guimarães': 176154,\n",
       " 'Póvoa de Lanhoso': 24230,\n",
       " 'Terras de Bouro': 7506,\n",
       " 'Vieira do Minho': 14077,\n",
       " 'Vila Nova de Famalicão': 134969,\n",
       " 'Vila Verde': 49171,\n",
       " 'Vizela': 24477}"
      ]
     },
     "execution_count": 3,
     "metadata": {},
     "output_type": "execute_result"
    }
   ],
   "source": [
    "for c in populacao:\n",
    "    if (populacao[c] > 50000):\n",
    "        print(c)\n",
    "    else:\n",
    "       print(\"O concelho {} precisava de mais {} para ter 50000 habitantes\".format(c, 50000-populacao[c]))\n",
    "populacao"
   ]
  }
 ],
 "metadata": {
  "authors": [
   {
    "name": "Jorge Gustavo Rocha"
   }
  ],
  "kernelspec": {
   "display_name": "Python 3 (ipykernel)",
   "language": "python",
   "name": "python3"
  },
  "language_info": {
   "codemirror_mode": {
    "name": "ipython",
    "version": 3
   },
   "file_extension": ".py",
   "mimetype": "text/x-python",
   "name": "python",
   "nbconvert_exporter": "python",
   "pygments_lexer": "ipython3",
   "version": "3.9.13"
  },
  "vscode": {
   "interpreter": {
    "hash": "916dbcbb3f70747c44a77c7bcd40155683ae19c65e1c03b4aa3499c5328201f1"
   }
  }
 },
 "nbformat": 4,
 "nbformat_minor": 2
}
